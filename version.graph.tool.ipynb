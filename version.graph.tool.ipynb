{
 "cells": [
  {
   "cell_type": "code",
   "execution_count": 1,
   "id": "7798ca21",
   "metadata": {},
   "outputs": [
    {
     "name": "stderr",
     "output_type": "stream",
     "text": [
      "/lmb/home/fkampf/miniconda3/envs/py312_jefferis/lib/python3.12/site-packages/tqdm/auto.py:21: TqdmWarning: IProgress not found. Please update jupyter and ipywidgets. See https://ipywidgets.readthedocs.io/en/stable/user_install.html\n",
      "  from .autonotebook import tqdm as notebook_tqdm\n"
     ]
    }
   ],
   "source": [
    "import os\n",
    "import random\n",
    "from time import time\n",
    "import pandas as pd\n",
    "import numpy as np\n",
    "import networkx as nx\n",
    "import graph_tool.all as gt\n",
    "from motif_counts import *\n",
    "from tqdm.auto import tqdm\n",
    "from collections import defaultdict\n",
    "from tqdm import tqdm\n",
    "import pickle"
   ]
  },
  {
   "cell_type": "code",
   "execution_count": 2,
   "id": "7894f9dd-e70b-4bc4-921d-cac7f6dca6bd",
   "metadata": {},
   "outputs": [],
   "source": [
    "import numpy"
   ]
  },
  {
   "cell_type": "code",
   "execution_count": 3,
   "id": "7266827e",
   "metadata": {},
   "outputs": [],
   "source": [
    "df = pd.read_feather('mcns_fw_edge_comp.feather')"
   ]
  },
  {
   "cell_type": "code",
   "execution_count": 4,
   "id": "99fb8ba9",
   "metadata": {},
   "outputs": [],
   "source": [
    "# 1) build a unique list of all node labels\n",
    "labels = np.unique(np.concatenate([df['pre'].values, df['post'].values]))\n",
    "\n",
    "# 2) create the graph and a string vertex‐property to store the label\n",
    "g = gt.Graph(directed=True)\n",
    "v_label = g.new_vp(\"string\")\n",
    "g.vp[\"label\"] = v_label\n",
    "\n",
    "# 3) add one vertex per label, keep a Python dict to map label→vertex\n",
    "label2v = {}\n",
    "for L in labels:\n",
    "    v = g.add_vertex()\n",
    "    label2v[L] = v\n",
    "    v_label[v] = str(L)\n",
    "\n",
    "# 4) create a float edge‐property for your weights\n",
    "e_weight = g.new_ep(\"float\")\n",
    "g.ep[\"weight\"] = e_weight\n",
    "\n",
    "# 5) add all edges with their weights\n",
    "edge_list = [\n",
    "    (label2v[src], label2v[tgt], float(w))\n",
    "    for src, tgt, w in df[['pre','post','weight_m']].itertuples(index=False)\n",
    "]\n",
    "g.add_edge_list(edge_list, eprops=[g.ep[\"weight\"]])\n",
    "loops = [e for e in g.edges() if e.source() == e.target()]\n",
    "for e in loops:\n",
    "    g.remove_edge(e)"
   ]
  },
  {
   "cell_type": "code",
   "execution_count": 5,
   "id": "a3295568",
   "metadata": {},
   "outputs": [],
   "source": [
    "V = list(range(g.num_vertices()))\n",
    "E = {\n",
    "    (int(e.source()), int(e.target()))\n",
    "    for e in g.edges()\n",
    "    if g.ep['weight'][e] >= 5\n",
    "}"
   ]
  },
  {
   "cell_type": "code",
   "execution_count": null,
   "id": "f5839a1c",
   "metadata": {},
   "outputs": [],
   "source": [
    "import graph_tool.all as gt\n",
    "from graph_tool.clustering import motifs, motif_significance\n",
    "from graph_tool.all import GraphView\n",
    "from graph_tool.all import Graph\n",
    "from graph_tool.clustering import motifs    \n",
    "from graph_tool.draw import graph_draw\n",
    "\n",
    "\n",
    "\n",
    "keep = g.new_vertex_property(\"bool\")\n",
    "keep.a[:] = False\n",
    "keep.a[:500] = True\n",
    "\n",
    "# view that hides all other vertices\n",
    "view = GraphView(g, vfilt=keep)\n",
    "\n",
    "# copy into a standalone graph, dropping hidden bits\n",
    "g100 = Graph(view, prune=True)\n",
    "\n",
    "\n",
    "\n",
    "motifs_list, counts, maps = motifs(g, 3, return_maps=True)\n",
    "\n",
    "\n",
    "\n",
    "for i, (m, c) in enumerate(zip(motifs_list, counts)):\n",
    "    # extract the edge list of this motif\n",
    "    edges = [(int(e.source()), int(e.target())) for e in m.edges()]\n",
    "    print(f\"Motif {i}: edges = {edges}, count = {c}\")\n",
    "\n",
    "    # if you’d like to visualize it:\n",
    "    graph_draw(\n",
    "        m,\n",
    "        vertex_fill_color=[0.5,0.5,0.5,1], \n",
    "        output_size=(200,200),\n",
    "        output=f\"{i}.png\"  # omit or set a filename like \"motif_{i}.png\"\n",
    "    )\n",
    "\n",
    "with open('motifs_list.pkl', 'wb') as f:\n",
    "    # protocol=pickle.HIGHEST_PROTOCOL uses the most efficient format\n",
    "    pickle.dump(motifs_list, f, protocol=pickle.HIGHEST_PROTOCOL)\n",
    "    \n",
    "with open('counts.pkl', 'wb') as f:\n",
    "    # protocol=pickle.HIGHEST_PROTOCOL uses the most efficient format\n",
    "    pickle.dump(counts, f, protocol=pickle.HIGHEST_PROTOCOL)\n",
    "\n",
    "with open('maps.pkl', 'wb') as f:\n",
    "    # protocol=pickle.HIGHEST_PROTOCOL uses the most efficient format\n",
    "    pickle.dump(maps, f, protocol=pickle.HIGHEST_PROTOCOL)\n",
    "\n"
   ]
  }
 ],
 "metadata": {
  "kernelspec": {
   "display_name": "Python 3 (ipykernel)",
   "language": "python",
   "name": "python3"
  },
  "language_info": {
   "codemirror_mode": {
    "name": "ipython",
    "version": 3
   },
   "file_extension": ".py",
   "mimetype": "text/x-python",
   "name": "python",
   "nbconvert_exporter": "python",
   "pygments_lexer": "ipython3",
   "version": "3.12.2"
  }
 },
 "nbformat": 4,
 "nbformat_minor": 5
}
