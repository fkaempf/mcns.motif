{
 "cells": [
  {
   "cell_type": "code",
   "execution_count": 10,
   "id": "8ceed861",
   "metadata": {},
   "outputs": [],
   "source": [
    "import os\n",
    "import random\n",
    "from time import time\n",
    "import pandas as pd\n",
    "import numpy as np\n",
    "import networkx as nx\n",
    "import graph_tool.all as gt\n",
    "from motif_counts import *\n",
    "from tqdm.auto import tqdm\n",
    "from collections import defaultdict\n",
    "from tqdm import tqdm\n",
    "import numpy as np\n",
    "import pandas as pd\n",
    "from scipy import sparse"
   ]
  },
  {
   "cell_type": "code",
   "execution_count": 3,
   "id": "0ad823a6",
   "metadata": {},
   "outputs": [],
   "source": [
    "df = pd.read_feather('/Users/fkampf/Documents/mcns.network.analysis/mcns_fw_edge_comp.feather')"
   ]
  },
  {
   "cell_type": "code",
   "execution_count": 6,
   "id": "e6686d75",
   "metadata": {},
   "outputs": [],
   "source": [
    "labels = np.unique(np.concatenate([df['pre'].values, df['post'].values]))\n",
    "label2idx = {label: i for i, label in enumerate(labels)}\n",
    "n = len(labels)\n",
    "\n",
    "rows = df['pre'].map(label2idx).to_numpy(dtype=int)\n",
    "cols = df['post'].map(label2idx).to_numpy(dtype=int)\n",
    "data = df['weight_m'].to_numpy(dtype=float)"
   ]
  },
  {
   "cell_type": "code",
   "execution_count": 12,
   "id": "bd3f3601",
   "metadata": {},
   "outputs": [],
   "source": [
    "A_coo = sparse.coo_matrix((data, (rows, cols)), shape=(n, n))\n",
    "A = A_coo.tocsr()"
   ]
  },
  {
   "cell_type": "code",
   "execution_count": null,
   "id": "0a4f6ad0",
   "metadata": {},
   "outputs": [
    {
     "data": {
      "text/plain": [
       "<Compressed Sparse Row sparse matrix of dtype 'float64'\n",
       "\twith 3454560 stored elements and shape (7601, 7601)>"
      ]
     },
     "execution_count": 14,
     "metadata": {},
     "output_type": "execute_result"
    },
    {
     "ename": "",
     "evalue": "",
     "output_type": "error",
     "traceback": [
      "\u001b[1;31mThe Kernel crashed while executing code in the current cell or a previous cell. \n",
      "\u001b[1;31mPlease review the code in the cell(s) to identify a possible cause of the failure. \n",
      "\u001b[1;31mClick <a href='https://aka.ms/vscodeJupyterKernelCrash'>here</a> for more info. \n",
      "\u001b[1;31mView Jupyter <a href='command:jupyter.viewOutput'>log</a> for further details."
     ]
    }
   ],
   "source": [
    "A"
   ]
  }
 ],
 "metadata": {
  "kernelspec": {
   "display_name": "py312_jefferis",
   "language": "python",
   "name": "python3"
  },
  "language_info": {
   "codemirror_mode": {
    "name": "ipython",
    "version": 3
   },
   "file_extension": ".py",
   "mimetype": "text/x-python",
   "name": "python",
   "nbconvert_exporter": "python",
   "pygments_lexer": "ipython3",
   "version": "3.12.9"
  }
 },
 "nbformat": 4,
 "nbformat_minor": 5
}
